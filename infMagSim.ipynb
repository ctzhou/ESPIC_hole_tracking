{
 "metadata": {
  "name": ""
 },
 "nbformat": 3,
 "nbformat_minor": 0,
 "worksheets": [
  {
   "cells": [
    {
     "cell_type": "code",
     "collapsed": false,
     "input": [
      "from IPython.parallel import Client"
     ],
     "language": "python",
     "outputs": [],
     "prompt_number": 1
    },
    {
     "cell_type": "code",
     "collapsed": false,
     "input": [
      "rc = Client()"
     ],
     "language": "python",
     "outputs": [],
     "prompt_number": 2
    },
    {
     "cell_type": "code",
     "collapsed": false,
     "input": [
      "%%px\n",
      "import IPython.core.display as IPdisp"
     ],
     "language": "python",
     "outputs": [],
     "prompt_number": 3
    },
    {
     "cell_type": "code",
     "collapsed": false,
     "input": [
      "%%px\n",
      "from IPython.nbformat import current\n",
      "def execute_notebook(nbfile):\n",
      "    with io.open(nbfile) as f:\n",
      "        nb = current.read(f, 'json')\n",
      "    ip = get_ipython()\n",
      "    for cell in nb.worksheets[0].cells:\n",
      "        if cell.cell_type != 'code':\n",
      "            continue\n",
      "        ip.run_cell(cell.input)"
     ],
     "language": "python",
     "outputs": [],
     "prompt_number": 4
    },
    {
     "cell_type": "code",
     "collapsed": false,
     "input": [
      "#####ScriptStart#####"
     ],
     "language": "python",
     "outputs": [],
     "prompt_number": 5
    },
    {
     "cell_type": "code",
     "collapsed": false,
     "input": [
      "%%px\n",
      "from mpi4py import MPI\n",
      "import io\n",
      "import math\n",
      "import numpy\n",
      "import matplotlib\n",
      "matplotlib.use('Agg') # non-GUI backend\n",
      "import matplotlib.pyplot\n",
      "#import ghalton\n",
      "from scipy.stats import norm\n",
      "from infMagSim_cython import *"
     ],
     "language": "python",
     "outputs": [],
     "prompt_number": 6
    },
    {
     "cell_type": "code",
     "collapsed": false,
     "input": [
      "%%px\n",
      "comm = MPI.COMM_WORLD\n",
      "mpi_id = comm.Get_rank()\n",
      "n_engines = comm.size"
     ],
     "language": "python",
     "outputs": [],
     "prompt_number": 7
    },
    {
     "cell_type": "code",
     "collapsed": false,
     "input": [
      "%%px\n",
      "periodic_particles = False # only use with prescribe_potential for now\n",
      "prescribe_potential = False or periodic_particles\n",
      "def prescribed_potential(grid, t):\n",
      "    z_min = grid[0]\n",
      "    z_max = grid[-1]\n",
      "    return min(1.,t/(z_max-z_min))*np.sin(2.*np.pi*grid/(z_max-z_min))\n",
      "boltzmann_electrons = False\n",
      "quasineutral = False\n",
      "if quasineutral:\n",
      "    boltzmann_electrons = True\n",
      "use_quasirandom_numbers = False\n",
      "include_object = True"
     ],
     "language": "python",
     "outputs": [],
     "prompt_number": 8
    },
    {
     "cell_type": "code",
     "collapsed": false,
     "input": [
      "%%px\n",
      "def circular_cross_section(grid, t, t_center, v_drift, radius, object_mask):\n",
      "    # object_mask will give fraction of each cell inside object\n",
      "    eps = 1.e-5\n",
      "    radius += eps\n",
      "    n_points = len(grid)\n",
      "    n_cells = len(object_mask)\n",
      "#    if (n_points==n_cells):\n",
      "#        n_cells -= 1\n",
      "    z_min = grid[0]\n",
      "    z_max = grid[n_points-1]\n",
      "    z_grid_center = (z_max+z_min)/2\n",
      "    object_index = n_points/2\n",
      "    z_object = grid[object_index]\n",
      "    dz = grid[1]-grid[0]\n",
      "    if (math.fabs(z_object-z_grid_center)>eps):\n",
      "        print 'object not centered'\n",
      "    t_enter = t_center - radius/v_drift\n",
      "    t_leave = t_center + radius/v_drift\n",
      "    if (t<t_enter):\n",
      "        width = 0.\n",
      "        distance_to = (t_enter-t)*v_drift\n",
      "    elif (t>t_leave):\n",
      "        width = 0.\n",
      "        distance_to = (t-t_leave)*v_drift\n",
      "    else:\n",
      "        x = (t-t_center)*v_drift\n",
      "        width = math.sqrt(max(0,1-x*x)) # Circular cross-section\n",
      "        distance_to = 0.\n",
      "#    if (distance_to>0. and enforce_bdy_cond_outside):\n",
      "#        width = eps\n",
      "    for j in range(n_cells):\n",
      "        object_mask[j] = 0.\n",
      "    if (width>0.):\n",
      "        z_object_left = z_object - width\n",
      "        outside_index_left = int((z_object_left-z_min)/dz)\n",
      "        zeta_left = z_object_left % dz\n",
      "        if (zeta_left==0.):\n",
      "            zeta_left += eps\n",
      "        elif (zeta_left>dz-eps):\n",
      "            zeta_left = dz-eps\n",
      "        object_mask[outside_index_left] = 1.-zeta_left/dz\n",
      "\n",
      "        z_object_right = z_object + width\n",
      "        outside_index_right = int((z_object_right-z_min)/dz)+1\n",
      "        zeta_right = dz - (z_object_right % dz)\n",
      "        if (zeta_right==0.):\n",
      "            zeta_right += eps\n",
      "        elif (zeta_right>dz-eps):\n",
      "            zeta_right = dz-eps\n",
      "        object_mask[outside_index_right-1] = 1.-zeta_right/dz\n",
      "\n",
      "        if (width>dz):\n",
      "            for j in range(outside_index_left+1, outside_index_right-1):\n",
      "                object_mask[j] = 1.\n",
      "    return distance_to"
     ],
     "language": "python",
     "outputs": [],
     "prompt_number": 9
    },
    {
     "cell_type": "code",
     "collapsed": false,
     "input": [
      "%%px\n",
      "z_min = -50.\n",
      "z_max = 50.\n",
      "n_cells = 2000\n",
      "n_points = n_cells+1\n",
      "dz = (z_max-z_min)/(n_points-1)\n",
      "eps = 1e-4\n",
      "grid = numpy.arange(z_min,z_max+eps,dz,dtype=numpy.float32)\n",
      "if (mpi_id==0):\n",
      "    print dz"
     ],
     "language": "python",
     "outputs": [
      {
       "output_type": "stream",
       "stream": "stdout",
       "text": [
        "[stdout:0] 0.05\n"
       ]
      }
     ],
     "prompt_number": 10
    },
    {
     "cell_type": "code",
     "collapsed": false,
     "input": [
      "%%px\n",
      "seed = 384+mpi_id*mpi_id*mpi_id\n",
      "class uniform_2d_sampler_class:\n",
      "    def __init__(self,seed,low_discrepancy=False,shared_seed=True,rand_dim=1):\n",
      "\tself.low_discrepancy = low_discrepancy\n",
      "\tself.shared_seed = shared_seed\n",
      "\tself.rand_dim = rand_dim\n",
      "\tif low_discrepancy:\n",
      "\t    self.low_discrepancy = True\n",
      "\t    #self.sequencer = ghalton.GeneralizedHalton(rand_dim,seed) # seed doesn't appear to do anything\n",
      "\t    self.sequencer = sobol_sequencer(rand_dim=rand_dim)\n",
      "\telse:\n",
      "\t    self.low_discrepancy = False\n",
      "\t    numpy.random.seed(seed)\n",
      "    def get(self,n):\n",
      "\tif self.low_discrepancy:\n",
      "\t    return numpy.asarray(self.sequencer.get(n))\n",
      "\telse:\n",
      "\t    return numpy.random.rand(n,self.rand_dim)\n",
      "if use_quasirandom_numbers:\n",
      "    uniform_2d_sampler = uniform_2d_sampler_class(seed,low_discrepancy=True,rand_dim=2)\n",
      "else:\n",
      "    uniform_2d_sampler = uniform_2d_sampler_class(seed,shared_seed=False,rand_dim=2)"
     ],
     "language": "python",
     "outputs": [],
     "prompt_number": 11
    },
    {
     "cell_type": "code",
     "collapsed": false,
     "input": [
      "%%px\n",
      "v_th_i = 1\n",
      "v_d_i = 0\n",
      "n_ions = 100000\n",
      "extra_storage_factor = 1.2\n",
      "background_ion_density = n_ions*n_engines*dz/(z_max-z_min)\n",
      "n_bins = n_points\n",
      "v_max_i = 4.*v_th_i\n",
      "v_min_i = -v_max_i\n",
      "inactive_slot_position_flag = 2*z_max"
     ],
     "language": "python",
     "outputs": [],
     "prompt_number": 12
    },
    {
     "cell_type": "code",
     "collapsed": false,
     "input": [
      "%%px\n",
      "largest_ion_index = [n_ions-1]\n",
      "ion_storage_length = int(extra_storage_factor*n_ions)\n",
      "ions = numpy.zeros([2,ion_storage_length],dtype=numpy.float32)\n",
      "#ions[0][0:n_ions] = numpy.random.rand(n_ions)*(z_max-z_min) + z_min # positions\n",
      "#ions[1][0:n_ions] = numpy.random.randn(n_ions)*v_th_i + v_d_i # velocities\n",
      "if uniform_2d_sampler.shared_seed:\n",
      "    for id in range(n_engines):\n",
      "\tsample = numpy.asarray(uniform_2d_sampler.get(n_ions)).T\n",
      "\tif id==mpi_id:\n",
      "\t    uniform_2d_sample = sample\n",
      "else:\n",
      "    uniform_2d_sample = uniform_2d_sampler.get(n_ions).T\n",
      "ions[0][0:n_ions] = uniform_2d_sample[0]*(z_max-z_min) + z_min # positions\n",
      "ions[1][0:n_ions] = norm.ppf(uniform_2d_sample[1])*v_th_i + v_d_i # velocities\n",
      "#ions[2][0:n_ions] = np.ones(n_ions) # active slots\n",
      "ions[0][n_ions:] = inactive_slot_position_flag\n",
      "#ions[2][0:n_ions] = numpy.ones(n_ions,dtype=numpy.float32) # relative weights\n",
      "# List remaining slots in reverse order to prevent memory fragmentation\n",
      "empty_ion_slots = -numpy.ones(ion_storage_length,dtype=numpy.int)\n",
      "current_empty_ion_slot = [(ion_storage_length-n_ions)-1]\n",
      "empty_ion_slots[0:(current_empty_ion_slot[0]+1)] = range(ion_storage_length-1,n_ions-1,-1)\n",
      "ion_hist_n_edges = np.arange(z_min,z_max+eps,(z_max-z_min)/n_bins)\n",
      "ion_hist_v_edges = np.arange(v_min_i,v_max_i+eps,(v_max_i-v_min_i)/n_bins)\n",
      "ion_hist_n, ion_hist_n_edges = numpy.histogram(ions[0][0:n_ions], bins=ion_hist_n_edges)\n",
      "ion_hist_v, ion_hist_v_edges = numpy.histogram(ions[1][0:n_ions], bins=ion_hist_v_edges)\n",
      "comm.Allreduce(MPI.IN_PLACE, ion_hist_n, op=MPI.SUM)\n",
      "comm.Allreduce(MPI.IN_PLACE, ion_hist_v, op=MPI.SUM)\n",
      "if (mpi_id==0):\n",
      "    fig, axes = matplotlib.pyplot.subplots(nrows=1,ncols=2,figsize=(8,2))\n",
      "    for ax, data, bins in zip(axes,[ion_hist_n,ion_hist_v], [ion_hist_n_edges, ion_hist_v_edges]):\n",
      "\tax.step(bins,numpy.append(data,[0]), where='post')\n",
      "    filename='initialIonDistribution.png'\n",
      "    matplotlib.pyplot.savefig(filename)"
     ],
     "language": "python",
     "outputs": [],
     "prompt_number": 13
    },
    {
     "cell_type": "code",
     "collapsed": false,
     "input": [
      "%%px\n",
      "#if not boltzmann_electrons:\n",
      "mass_ratio = 1./1836.\n",
      "n_electrons = n_ions\n",
      "v_th_e = 1./math.sqrt(mass_ratio)\n",
      "v_d_e = 0.\n",
      "background_electron_density = n_electrons*n_engines*dz/(z_max-z_min)\n",
      "n_bins = n_points;\n",
      "v_max_e = 4.*v_th_e\n",
      "v_min_e = -v_max_e"
     ],
     "language": "python",
     "outputs": [],
     "prompt_number": 14
    },
    {
     "cell_type": "code",
     "collapsed": false,
     "input": [
      "%%px\n",
      "electron_hist_n_edges = np.arange(z_min,z_max+eps,(z_max-z_min)/n_bins)\n",
      "electron_hist_v_edges = np.arange(v_min_e,v_max_e+eps,(v_max_e-v_min_e)/n_bins)\n",
      "if not boltzmann_electrons:\n",
      "    largest_electron_index = [n_electrons-1]\n",
      "    electron_storage_length = int(n_electrons*extra_storage_factor)\n",
      "    electrons = numpy.zeros([2,electron_storage_length],dtype=numpy.float32)\n",
      "    #electrons[0][0:n_electrons] = numpy.random.rand(n_electrons)*(z_max-z_min) + z_min # positions\n",
      "    #electrons[1][0:n_electrons] = numpy.random.randn(n_electrons)*v_th_e + v_d_e # velocities\n",
      "    if uniform_2d_sampler.shared_seed:\n",
      "\tfor id in range(n_engines):\n",
      "\t    sample = numpy.asarray(uniform_2d_sampler.get(n_electrons)).T\n",
      "\t    if id==mpi_id:\n",
      "\t\tuniform_2d_sample = sample\n",
      "    else:\n",
      "\tuniform_2d_sample = uniform_2d_sampler.get(n_electrons).T\n",
      "    electrons[0][0:n_electrons] = uniform_2d_sample[0]*(z_max-z_min) + z_min # positions\n",
      "    electrons[1][0:n_electrons] = norm.ppf(uniform_2d_sample[1])*v_th_e + v_d_e # velocities\n",
      "    #electrons[2][0:n_electrons] = np.ones(n_electrons) # active slots\n",
      "    electrons[0][n_electrons:] = inactive_slot_position_flag\n",
      "    #electrons[2][0:n_electrons] = numpy.ones(n_ions,dtype=numpy.float32) # relative weights\n",
      "    # List remaining slots in reverse order to prevent memory fragmentation\n",
      "    empty_electron_slots = -numpy.ones(electron_storage_length,dtype=numpy.int)\n",
      "    current_empty_electron_slot = [(electron_storage_length-n_electrons)-1]\n",
      "    empty_electron_slots[0:(current_empty_electron_slot[0]+1)] = range(electron_storage_length-1,n_electrons-1,-1)\n",
      "    electron_hist_n, electron_hist_n_edges = numpy.histogram(electrons[0][0:n_electrons], bins=electron_hist_n_edges)\n",
      "    electron_hist_v, electron_hist_v_edges = numpy.histogram(electrons[1][0:n_electrons], bins=electron_hist_v_edges)\n",
      "    comm.Allreduce(MPI.IN_PLACE, electron_hist_n, op=MPI.SUM)\n",
      "    comm.Allreduce(MPI.IN_PLACE, electron_hist_v, op=MPI.SUM)\n",
      "    if (mpi_id==0):\n",
      "\tfig, axes = matplotlib.pyplot.subplots(nrows=1,ncols=2,figsize=(8,2))\n",
      "\tfor ax, data, bins in zip(axes,[electron_hist_n,electron_hist_v], [electron_hist_n_edges, electron_hist_v_edges]):\n",
      "\t    ax.step(bins,numpy.append(data,[0]), where='post')\n",
      "\t    filename='initialElectronDistribution.png'\n",
      "\t    matplotlib.pyplot.savefig(filename)"
     ],
     "language": "python",
     "outputs": [],
     "prompt_number": 15
    },
    {
     "cell_type": "code",
     "collapsed": false,
     "input": [
      "#%%px\n",
      "#for point, j in zip(grid, range(1+0*n_cells)):\n",
      "#    ion_in_cell = numpy.logical_and(point<ions[0][:],ions[0][:]<=point+dz)\n",
      "#    ions_in_cell = ions.T[ion_in_cell]\n",
      "#    ions_in_cell = ions_in_cell.T\n",
      "#    average_ion_velocity_in_cell = numpy.average(ions_in_cell[1])\n",
      "#    electron_in_cell = numpy.logical_and(point<electrons[0][:],electrons[0][:]<=point+dz)\n",
      "#    electrons_in_cell = electrons.T[electron_in_cell]\n",
      "#    electrons_in_cell = electrons_in_cell.T\n",
      "#    average_electron_velocity_in_cell = numpy.average(electrons_in_cell[1])\n",
      "#    mpi_writeable = numpy.zeros(1)\n",
      "#    comm.Allreduce(average_ion_velocity_in_cell, mpi_writeable, op=MPI.SUM)\n",
      "#    average_ion_velocity_in_cell = mpi_writeable[0]/n_engines\n",
      "#    mpi_writeable = numpy.zeros(1)\n",
      "#    comm.Allreduce(average_electron_velocity_in_cell, mpi_writeable, op=MPI.SUM)\n",
      "#    average_electron_velocity_in_cell = mpi_writeable[0]/n_engines\n",
      "#    ions[1][ion_in_cell] -= average_ion_velocity_in_cell\n",
      "#    electrons[1][electron_in_cell] -= average_electron_velocity_in_cell"
     ],
     "language": "python",
     "outputs": [],
     "prompt_number": 16
    },
    {
     "cell_type": "code",
     "collapsed": false,
     "input": [
      "%%px\n",
      "v_drift = 0.125*v_th_i\n",
      "if quasineutral:\n",
      "    debye_length = dz\n",
      "else:\n",
      "    debye_length = 0.125\n",
      "pot_transp_elong = 2.\n",
      "object_radius = 1.\n",
      "t_object_center = (1.+4.*pot_transp_elong*debye_length)/v_drift\n",
      "t = 0.\n",
      "if boltzmann_electrons:\n",
      "    dt = 0.05*debye_length/v_th_i\n",
      "else:\n",
      "    dt = 0.1*debye_length/v_th_e\n",
      "ion_charge_to_mass = 1\n",
      "if (mpi_id==0):\n",
      "    print t_object_center, dt"
     ],
     "language": "python",
     "outputs": [
      {
       "output_type": "stream",
       "stream": "stdout",
       "text": [
        "[stdout:0] 16.0 0.000291725017506\n"
       ]
      }
     ],
     "prompt_number": 17
    },
    {
     "cell_type": "code",
     "collapsed": false,
     "input": [
      "%%px\n",
      "object_mask = numpy.zeros_like(grid) # Could make 1 shorter\n",
      "object_center_mask = numpy.zeros_like(grid) # Could make 1 shorter\n",
      "if include_object:\n",
      "    circular_cross_section(grid,1.e-8,1.,1.,1.,object_center_mask)\n",
      "potential = numpy.zeros_like(grid)\n",
      "previous_potential = numpy.zeros_like(grid)\n",
      "\n",
      "if (mpi_id==0):\n",
      "    object_masks = []\n",
      "    potentials = []\n",
      "    ion_densities = []\n",
      "    electron_densities = []\n",
      "    charge_derivatives = []\n",
      "    times = []\n",
      "    ion_distribution_functions = []\n",
      "    electron_distribution_functions = []"
     ],
     "language": "python",
     "outputs": [],
     "prompt_number": 18
    },
    {
     "cell_type": "code",
     "collapsed": false,
     "input": [
      "%%px\n",
      "ion_density = numpy.zeros_like(grid)\n",
      "accumulate_density(grid, object_mask, background_ion_density, largest_ion_index, ions, ion_density, \\\n",
      "\t\t       empty_ion_slots, current_empty_ion_slot)\n",
      "electron_density = numpy.zeros_like(grid)\n",
      "charge_density = numpy.zeros_like(grid)\n",
      "previous_charge_density = numpy.zeros_like(grid)\n",
      "charge_derivative = numpy.zeros_like(grid)\n",
      "if not boltzmann_electrons:\n",
      "    accumulate_density(grid, object_mask, background_electron_density, largest_electron_index, electrons, \\\n",
      "\t\t\t   electron_density, empty_electron_slots, current_empty_electron_slot)\n",
      "\n",
      "initialize_mover(grid, object_mask, potential, dt, ion_charge_to_mass, largest_ion_index, ions, \\\n",
      "\t     ion_density, empty_ion_slots, current_empty_ion_slot, periodic_particles=periodic_particles)\n",
      "if not boltzmann_electrons:\n",
      "    electron_charge_to_mass = -1./mass_ratio\n",
      "    initialize_mover(grid, object_mask, potential, dt, electron_charge_to_mass, largest_electron_index, electrons, \\\n",
      "\t\t\t electron_density, empty_electron_slots, current_empty_electron_slot, \\\n",
      "\t\t\t periodic_particles=periodic_particles)"
     ],
     "language": "python",
     "outputs": [],
     "prompt_number": 19
    },
    {
     "cell_type": "code",
     "collapsed": false,
     "input": [
      "%%px\n",
      "n_steps = 1000\n",
      "storage_step = 1\n",
      "store_all_until_step = 100\n",
      "print_step = 100\n",
      "damping_start_step = 1 # don't make zero to avoid large initial derivative\n",
      "damping_end_step = 0 # make <= damping_start_step to disable damping\n",
      "for k in range(n_steps):\n",
      "#    if k==1: # simulate moon by knocking out particles\n",
      "#        object_mask[0.45*n_cells:0.55*n_cells] = 1.\n",
      "#    else:\n",
      "#        object_mask = numpy.zeros_like(grid)\n",
      "    comm.Allreduce(MPI.IN_PLACE, ion_density, op=MPI.SUM)\n",
      "    if periodic_particles:\n",
      "\tion_density[0] += ion_density[-1]\n",
      "\tion_density[-1] = ion_density[0]\n",
      "    else:\n",
      "\tion_density[0] *= 2. # half-cell at ends\n",
      "\tion_density[-1] *= 2. # half-cell at ends\n",
      "    if boltzmann_electrons:\n",
      "\telectron_density = numpy.exp(potential) # TODO: add electron temp. dep.\n",
      "    else:\n",
      "\tcomm.Allreduce(MPI.IN_PLACE, electron_density, op=MPI.SUM)\n",
      "\tif periodic_particles:\n",
      "\t    electron_density[0] += electron_density[-1]\n",
      "\t    electron_density[-1] = electron_density[0]\n",
      "\telse:\n",
      "\t    electron_density[0] *= 2. # half-cell at ends\n",
      "\t    electron_density[-1] *= 2. # half-cell at ends\n",
      "    if include_object:\n",
      "\tdist_to_obj = circular_cross_section(grid, t, t_object_center, v_drift, object_radius, object_mask)\n",
      "    else:\n",
      "\tdist_to_obj = 100.\n",
      "    object_potential = -3.\n",
      "    if prescribe_potential:\n",
      "\tpotential = prescribed_potential(grid,t)\n",
      "    elif quasineutral:\n",
      "\tpotential = numpy.log(numpy.maximum(ion_density,numpy.exp(object_potential)*numpy.ones_like(ion_density))) # TODO: add electron temp. dep.\n",
      "\tpotential[0] = 0.\n",
      "\tpotential[-1] = 0.\n",
      "    else:\n",
      "\tif (dist_to_obj>0.):\n",
      "\t    if include_object:\n",
      "\t\tfraction_of_obj_pot = math.exp(-dist_to_obj/debye_length)\n",
      "\t    else:\n",
      "\t\tfraction_of_obj_pot = 0.\n",
      "\t    object_potential *= math.exp(-dist_to_obj/(pot_transp_elong*debye_length))\n",
      "\t    if k>=damping_start_step and k<damping_end_step:\n",
      "\t\tdamping_factor = dt/2.\n",
      "\t    else:\n",
      "\t\tdamping_factor = 0.\n",
      "\t    charge_density = ion_density-electron_density\n",
      "\t    charge_derivative = (charge_density-previous_charge_density)/dt\n",
      "\t    previous_charge_density = charge_density\n",
      "\t    if boltzmann_electrons:\n",
      "\t\tcharge_density = ion_density\n",
      "\t\tmax_potential_iter = 20\n",
      "\t    else:\n",
      "\t\tmax_potential_iter = 1\n",
      "\t    potential_iter = 0\n",
      "\t    potential_converged = False\n",
      "\t    potential_convergence_threshold = 0.0001\n",
      "\t    while (not potential_converged and potential_iter<max_potential_iter):\n",
      "\t\tpoisson_solve(grid, object_center_mask, charge_density+damping_factor*charge_derivative, \\\n",
      "\t\t\t\t  debye_length, potential, \\\n",
      "\t\t\t\t  object_potential=object_potential, object_transparency=(1.-fraction_of_obj_pot), \\\n",
      "\t\t\t\t  boltzmann_electrons=boltzmann_electrons)\n",
      "\t\tmax_potential_change = np.amax(np.fabs(potential-previous_potential))\n",
      "\t\tprevious_potential[:] = potential[:]\n",
      "\t\tif max_potential_change<potential_convergence_threshold:\n",
      "\t\t    potential_converged = True\n",
      "\t\tpotential_iter += 1\n",
      "#\t    if mpi_id==0:\n",
      "#\t\tprint potential_iter, max_potential_change\n",
      "\telse:\n",
      "\t    fraction_of_obj_pot = 1.\n",
      "\t    poisson_solve(grid, object_mask, ion_density-electron_density, debye_length, potential, \\\n",
      "\t\t\t      object_potential=object_potential, object_transparency=0.)\n",
      "    if (k%storage_step==0 or k<store_all_until_step):\n",
      "\t    occupied_ion_slots = (ions[0]==ions[0])\n",
      "\t    occupied_ion_slots[empty_ion_slots[0:current_empty_ion_slot[0]+1]] = False\n",
      "\t    n_bins = 100\n",
      "\t    ion_hist_n_edges = np.arange(z_min,z_max+eps,(z_max-z_min)/n_bins)\n",
      "\t    ion_hist_v_edges = np.arange(v_min_i,v_max_i+eps,(v_max_i-v_min_i)/n_bins)\n",
      "\t    ion_hist2d, ion_hist_n_edges, ion_hist_v_edges = \\\n",
      "\t\tnumpy.histogram2d(ions[0][occupied_ion_slots], ions[1][occupied_ion_slots], \\\n",
      "\t\t\t\t      bins=[ion_hist_n_edges,ion_hist_v_edges]) # could use range=[[z_min,z_max],[v_min,v_max]]\n",
      "\t    ion_hist2d = np.ascontiguousarray(ion_hist2d)\n",
      "\t    comm.Allreduce(MPI.IN_PLACE, ion_hist2d, op=MPI.SUM)\n",
      "\t    if not boltzmann_electrons:\n",
      "\t\toccupied_electron_slots = (electrons[0]==electrons[0])\n",
      "\t\toccupied_electron_slots[empty_electron_slots[0:current_empty_electron_slot[0]+1]] = False\n",
      "\t\tn_bins = 100\n",
      "\t\telectron_hist_n_edges = np.arange(z_min,z_max+eps,(z_max-z_min)/n_bins)\n",
      "\t\telectron_hist_v_edges = np.arange(v_min_e,v_max_e+eps,(v_max_e-v_min_e)/n_bins)\n",
      "\t\telectron_hist2d, electron_hist_n_edges, electron_hist_v_edges = \\\n",
      "\t\t    numpy.histogram2d(electrons[0][occupied_electron_slots], electrons[1][occupied_electron_slots], \\\n",
      "\t\t\t\t\t  bins=[electron_hist_n_edges,electron_hist_v_edges]) # could use range=[[z_min,z_max],[v_min,v_max]]\n",
      "\t\telectron_hist2d = np.ascontiguousarray(electron_hist2d)\n",
      "\t\tcomm.Allreduce(MPI.IN_PLACE, electron_hist2d, op=MPI.SUM)\n",
      "    if ((k%storage_step==0 or k<store_all_until_step) and mpi_id==0):\n",
      "        times.append(t)\n",
      "        copy = numpy.empty_like(object_mask)\n",
      "        copy[:] = object_mask\n",
      "        object_masks.append(copy)\n",
      "        copy = numpy.empty_like(ion_density)\n",
      "        copy[:] = ion_density\n",
      "        ion_densities.append(copy)\n",
      "\tcopy = numpy.empty_like(electron_density)\n",
      "\tcopy[:] = electron_density\n",
      "\telectron_densities.append(copy)\n",
      "\tcopy = numpy.empty_like(charge_derivative)\n",
      "\tcopy[:] = charge_derivative\n",
      "\tcharge_derivatives.append(copy)\n",
      "        copy = numpy.empty_like(potential)\n",
      "        copy[:] = potential\n",
      "        potentials.append(copy)\n",
      "        copy = numpy.empty_like(ion_hist2d)\n",
      "        copy[:] = ion_hist2d\n",
      "        ion_distribution_functions.append(copy)\n",
      "\tif not boltzmann_electrons:\n",
      "\t    copy = numpy.empty_like(electron_hist2d)\n",
      "\t    copy[:] = electron_hist2d\n",
      "\t    electron_distribution_functions.append(copy)\n",
      "    if (k%print_step==0 and mpi_id==0):\n",
      "\tprint k\n",
      "    move_particles(grid, object_mask, potential, dt, ion_charge_to_mass, \\\n",
      "\t\t\t   background_ion_density, largest_ion_index, ions, ion_density, \\\n",
      "\t\t\t   empty_ion_slots, current_empty_ion_slot, periodic_particles=periodic_particles)\n",
      "    if not boltzmann_electrons:\n",
      "\tmove_particles(grid, object_mask, potential, dt, electron_charge_to_mass, \\\n",
      "\t\t\t   background_electron_density, largest_electron_index, \\\n",
      "\t\t\t   electrons, electron_density, empty_electron_slots, current_empty_electron_slot, \\\n",
      "\t\t\t   periodic_particles=periodic_particles)\n",
      "    expected_ion_injection = 2*dt*v_th_i/math.sqrt(2*math.pi)*n_ions/(z_max-z_min)\n",
      "    n_ions_inject = int(expected_ion_injection)\n",
      "    if not boltzmann_electrons:\n",
      "\texpected_electron_injection = 2*dt*v_th_e/math.sqrt(2*math.pi)*n_electrons/(z_max-z_min)\n",
      "\tn_electrons_inject = int(expected_electron_injection)\n",
      "    # If expected injection number is small, need to add randomness to get right average rate\n",
      "    if (expected_ion_injection-n_ions_inject)>numpy.random.rand():\n",
      "\tn_ions_inject += 1\n",
      "    injection_numbers = numpy.zeros(n_engines,dtype=np.int32)\n",
      "    injection_numbers[mpi_id] = n_ions_inject\n",
      "    comm.Allreduce(MPI.IN_PLACE, injection_numbers, op=MPI.SUM)\n",
      "    if uniform_2d_sampler.shared_seed:\n",
      "\tfor injection_number in injection_numbers[:mpi_id]:\n",
      "\t    sample = numpy.asarray(uniform_2d_sampler.get(int(injection_number))).T\n",
      "    if n_ions_inject>0 and not periodic_particles:\n",
      "\tinject_particles(n_ions_inject, grid, dt, v_th_i, background_ion_density, \\\n",
      "\t\t\t     uniform_2d_sampler, ions, empty_ion_slots, \\\n",
      "\t\t\t     current_empty_ion_slot, largest_ion_index, ion_density)\n",
      "    if uniform_2d_sampler.shared_seed:\n",
      "\tfor injection_number in injection_numbers[mpi_id+1:]:\n",
      "\t    sample = numpy.asarray(uniform_2d_sampler.get(int(injection_number))).T\n",
      "    if not boltzmann_electrons:\n",
      "\tif (expected_electron_injection-n_electrons_inject)>numpy.random.rand():\n",
      "\t    n_electrons_inject += 1\n",
      "\tinjection_numbers = numpy.zeros(n_engines,dtype=np.int32)\n",
      "\tinjection_numbers[mpi_id] = n_electrons_inject\n",
      "\tcomm.Allreduce(MPI.IN_PLACE, injection_numbers, op=MPI.SUM)\n",
      "\tif uniform_2d_sampler.shared_seed:\n",
      "\t    for injection_number in injection_numbers[:mpi_id]:\n",
      "\t\tsample = numpy.asarray(uniform_2d_sampler.get(int(injection_number))).T\n",
      "\tif n_electrons_inject>0 and not periodic_particles:\n",
      "\t    inject_particles(n_electrons_inject, grid, dt, v_th_e, background_electron_density, \\\n",
      "\t\t\t\t uniform_2d_sampler, electrons, empty_electron_slots, \\\n",
      "\t\t\t\t current_empty_electron_slot, largest_electron_index, electron_density)\n",
      "\tif uniform_2d_sampler.shared_seed:\n",
      "\t    for injection_number in injection_numbers[mpi_id+1:]:\n",
      "\t\tsample = numpy.asarray(uniform_2d_sampler.get(int(injection_number))).T\n",
      "    t += dt\n",
      "if (mpi_id==0):\n",
      "    print times[0], dt, times[len(times)-1]"
     ],
     "language": "python",
     "outputs": [
      {
       "output_type": "stream",
       "stream": "stdout",
       "text": [
        "[stdout:0] \n",
        "0\n",
        "1\n",
        "2\n",
        "3\n",
        "4\n",
        "5\n",
        "6\n",
        "7\n",
        "8\n",
        "9\n",
        "0.0 0.000291725017506 0.00554277533261\n"
       ]
      }
     ],
     "prompt_number": 26
    },
    {
     "cell_type": "code",
     "collapsed": false,
     "input": [
      "%%px\n",
      "if (mpi_id==0):\n",
      "    times_np = numpy.array(times, dtype=numpy.float32)\n",
      "    object_masks_np = numpy.array(object_masks, dtype=numpy.float32)\n",
      "    potentials_np = numpy.array(potentials, dtype=numpy.float32)\n",
      "    ion_densities_np = numpy.array(ion_densities, dtype=numpy.float32)\n",
      "    electron_densities_np = numpy.array(electron_densities, dtype=numpy.float32)\n",
      "    charge_derivatives_np = numpy.array(charge_derivatives, dtype=numpy.float32)\n",
      "    ion_distribution_functions_np = numpy.array(ion_distribution_functions, dtype=numpy.float32) # actuall int\n",
      "    electron_distribution_functions_np = numpy.array(electron_distribution_functions, dtype=numpy.float32) # actuall int\n",
      "    filename_base = \\\n",
      "\t'l'+('%.4f' % debye_length)+'_d'+('%.3f' % v_drift)+'_np'+('%.1e' % n_points)+'_ni'+('%.1e' % n_ions)+'_dt'+('%.1e' % dt)\n",
      "    print filename_base\n",
      "    numpy.savez(filename_base, grid=grid, times=times_np, object_masks=object_masks_np, potentials=potentials_np, \\\n",
      "\t\t    ion_densities=ion_densities_np, electron_densities=electron_densities_np, charge_derivatives=charge_derivatives_np, \\\n",
      "\t\t    ion_hist_n_edges=ion_hist_n_edges, ion_hist_v_edges=ion_hist_v_edges, \\\n",
      "\t\t    ion_distribution_functions=ion_distribution_functions_np, \\\n",
      "\t\t    electron_hist_n_edges=electron_hist_n_edges, electron_hist_v_edges=electron_hist_v_edges, \\\n",
      "\t\t    electron_distribution_functions=electron_distribution_functions_np, \\\n",
      "\t\t    background_ion_density=background_ion_density, background_electron_density=background_electron_density)"
     ],
     "language": "python",
     "outputs": []
    },
    {
     "cell_type": "code",
     "collapsed": false,
     "input": [
      "#####ScriptEnd#####"
     ],
     "language": "python",
     "outputs": []
    },
    {
     "cell_type": "code",
     "collapsed": false,
     "input": [
      "from IPython.parallel import Client"
     ],
     "language": "python",
     "outputs": []
    },
    {
     "cell_type": "code",
     "collapsed": false,
     "input": [
      "rc = Client()\n",
      "dview = rc[:]\n",
      "dview.block = True\n",
      "n_engines = len(rc.ids)\n",
      "res = dview.push(dict(n_engines=n_engines))\n",
      "print n_engines"
     ],
     "language": "python",
     "outputs": []
    },
    {
     "cell_type": "code",
     "collapsed": false,
     "input": [
      "mpi_ids = numpy.array(dview.pull('mpi_id'))\n",
      "master_rc_id = numpy.arange(0,len(mpi_ids))[mpi_ids==0][0]"
     ],
     "language": "python",
     "outputs": []
    },
    {
     "cell_type": "code",
     "collapsed": false,
     "input": [
      "filename = dview.pull('filename_base', targets=master_rc_id) + '.npz'\n",
      "data_file = numpy.load(filename)\n",
      "print data_file.files\n",
      "grid = data_file['grid']\n",
      "times = data_file['times']\n",
      "ion_densities = data_file['ion_densities']\n",
      "electron_densities = data_file['electron_densities']\n",
      "potentials = data_file['potentials']\n",
      "object_masks = data_file['object_masks']"
     ],
     "language": "python",
     "outputs": [],
     "prompt_number": "*"
    },
    {
     "cell_type": "code",
     "collapsed": false,
     "input": [
      "k = len(times)-1\n",
      "print times[k]\n",
      "fig, axes = matplotlib.pyplot.subplots(nrows=3,ncols=2,figsize=(8,6))\n",
      "for ax, data in zip(axes.flatten(),[potentials[k], ion_densities[k]-electron_densities[k], \\\n",
      "                              object_masks[k], object_masks[k], ion_densities[k], electron_densities[k]]):\n",
      "    ax.plot(grid,data)\n",
      "filename='figures/data.png'\n",
      "matplotlib.pyplot.savefig(filename)\n",
      "IPdisp.Image(filename=filename)"
     ],
     "language": "python",
     "outputs": [],
     "prompt_number": "*"
    },
    {
     "cell_type": "code",
     "collapsed": false,
     "input": [
      "# 8 engines: 14.4s\n",
      "# 16 engines: 18.6s\n",
      "# 32 engines: 29.9s\n",
      "# 1 eng, 10x part: 1m58\n",
      "# 2 eng, 10x part: 1m54\n",
      "# 4 eng, 10x part: 2m31\n",
      "# 8 eng, 10x part: 2m8; 2m6\n",
      "# 15 eng, 5x part: 1m10\n",
      "# 16 eng, 5x part: 1m17; 1m17\n",
      "# 16 eng, 5x part, 10x grid: 1m18\n",
      "# 16 eng, 5x steps: 1m31\n",
      "# 16 eng, 10x grid, 5x steps: 1m37\n",
      "# 16 eng, 5x part, 10x grid, 100x steps: 2h7"
     ],
     "language": "python",
     "outputs": [],
     "prompt_number": 20
    },
    {
     "cell_type": "code",
     "collapsed": false,
     "input": [
      "from guppy import hpy\n",
      "h = hpy()\n",
      "print h.heap()"
     ],
     "language": "python",
     "outputs": [
      {
       "output_type": "stream",
       "stream": "stdout",
       "text": [
        "Partition of a set of 96715809 objects. Total size = 20734669600 bytes.\n",
        " Index  Count   %     Size   % Cumulative  % Kind (class / dict of class)\n",
        "     0 4160324   4 7621713568  37 7621713568  37 IPython.parallel.client.client.Metadata\n",
        "     1 31683369  33 5238958352  25 12860671920  62 unicode\n",
        "     2 13766906  14 3856539632  19 16717211552  81 dict (no owner)\n",
        "     3 15684278  16 1198299824   6 17915511376  86 list\n",
        "     4 3200096   3 896026880   4 18811538256  91 dict of IPython.parallel.client.client.ExecuteReply\n",
        "     5 16641333  17 798783984   4 19610322240  95 datetime.datetime\n",
        "     6      3   0 402654816   2 20012977056  97 collections.defaultdict\n",
        "     7 4344426   4 352809984   2 20365787040  98 str\n",
        "     8 3200096   3 204806144   1 20570593184  99 IPython.parallel.client.client.ExecuteReply\n",
        "     9 3202772   3 76866528   0 20647459712 100 int\n",
        "<1435 more rows. Type e.g. '_.more' to view.>\n"
       ]
      }
     ],
     "prompt_number": 25
    },
    {
     "cell_type": "code",
     "collapsed": false,
     "input": [
      "import gc"
     ],
     "language": "python",
     "outputs": [],
     "prompt_number": 23
    },
    {
     "cell_type": "code",
     "collapsed": false,
     "input": [
      "gc.collect()"
     ],
     "language": "python",
     "outputs": [
      {
       "output_type": "pyout",
       "prompt_number": 24,
       "text": [
        "2082"
       ]
      }
     ],
     "prompt_number": 24
    },
    {
     "cell_type": "code",
     "collapsed": false,
     "input": [
      "fig, axes = matplotlib.pyplot.subplots(nrows=1,ncols=2,figsize=(8,2))\n",
      "for ax, data in zip(axes,electrons):\n",
      "    n_bins = n_points;\n",
      "    occupied_slots = (data==data)\n",
      "    occupied_slots[empty_electron_slots[0:current_empty_electron_slot[0]+1]] = False\n",
      "    ax.hist(data[occupied_slots],bins=n_bins, histtype='step')\n",
      "filename='data.png'\n",
      "matplotlib.pyplot.savefig(filename)\n",
      "IPdisp.Image(filename=filename)"
     ],
     "language": "python",
     "outputs": [
      {
       "ename": "NameError",
       "evalue": "name 'electrons' is not defined",
       "output_type": "pyerr",
       "traceback": [
        "\u001b[1;31m---------------------------------------------------------------------------\u001b[0m\n\u001b[1;31mNameError\u001b[0m                                 Traceback (most recent call last)",
        "\u001b[1;32m<ipython-input-23-37fe8d52c6e1>\u001b[0m in \u001b[0;36m<module>\u001b[1;34m()\u001b[0m\n\u001b[0;32m      1\u001b[0m \u001b[0mfig\u001b[0m\u001b[1;33m,\u001b[0m \u001b[0maxes\u001b[0m \u001b[1;33m=\u001b[0m \u001b[0mplt\u001b[0m\u001b[1;33m.\u001b[0m\u001b[0msubplots\u001b[0m\u001b[1;33m(\u001b[0m\u001b[0mnrows\u001b[0m\u001b[1;33m=\u001b[0m\u001b[1;36m1\u001b[0m\u001b[1;33m,\u001b[0m\u001b[0mncols\u001b[0m\u001b[1;33m=\u001b[0m\u001b[1;36m2\u001b[0m\u001b[1;33m,\u001b[0m\u001b[0mfigsize\u001b[0m\u001b[1;33m=\u001b[0m\u001b[1;33m(\u001b[0m\u001b[1;36m8\u001b[0m\u001b[1;33m,\u001b[0m\u001b[1;36m2\u001b[0m\u001b[1;33m)\u001b[0m\u001b[1;33m)\u001b[0m\u001b[1;33m\u001b[0m\u001b[0m\n\u001b[1;32m----> 2\u001b[1;33m \u001b[1;32mfor\u001b[0m \u001b[0max\u001b[0m\u001b[1;33m,\u001b[0m \u001b[0mdata\u001b[0m \u001b[1;32min\u001b[0m \u001b[0mzip\u001b[0m\u001b[1;33m(\u001b[0m\u001b[0maxes\u001b[0m\u001b[1;33m,\u001b[0m\u001b[0melectrons\u001b[0m\u001b[1;33m)\u001b[0m\u001b[1;33m:\u001b[0m\u001b[1;33m\u001b[0m\u001b[0m\n\u001b[0m\u001b[0;32m      3\u001b[0m     \u001b[0mn_bins\u001b[0m \u001b[1;33m=\u001b[0m \u001b[0mn_points\u001b[0m\u001b[1;33m;\u001b[0m\u001b[1;33m\u001b[0m\u001b[0m\n\u001b[0;32m      4\u001b[0m     \u001b[0moccupied_slots\u001b[0m \u001b[1;33m=\u001b[0m \u001b[1;33m(\u001b[0m\u001b[0mdata\u001b[0m\u001b[1;33m==\u001b[0m\u001b[0mdata\u001b[0m\u001b[1;33m)\u001b[0m\u001b[1;33m\u001b[0m\u001b[0m\n\u001b[0;32m      5\u001b[0m     \u001b[0moccupied_slots\u001b[0m\u001b[1;33m[\u001b[0m\u001b[0mempty_electron_slots\u001b[0m\u001b[1;33m[\u001b[0m\u001b[1;36m0\u001b[0m\u001b[1;33m:\u001b[0m\u001b[0mcurrent_empty_electron_slot\u001b[0m\u001b[1;33m[\u001b[0m\u001b[1;36m0\u001b[0m\u001b[1;33m]\u001b[0m\u001b[1;33m+\u001b[0m\u001b[1;36m1\u001b[0m\u001b[1;33m]\u001b[0m\u001b[1;33m]\u001b[0m \u001b[1;33m=\u001b[0m \u001b[0mFalse\u001b[0m\u001b[1;33m\u001b[0m\u001b[0m\n",
        "\u001b[1;31mNameError\u001b[0m: name 'electrons' is not defined"
       ]
      }
     ],
     "prompt_number": 23
    },
    {
     "cell_type": "code",
     "collapsed": false,
     "input": [
      "fig, axes = matplotlib.pyplot.subplots(nrows=1,ncols=2,figsize=(8,2))\n",
      "for ax, data in zip(axes,ions):\n",
      "    n_bins = n_points;\n",
      "    occupied_slots = (data==data)\n",
      "    occupied_slots[empty_ion_slots[0:current_empty_ion_slot[0]+1]] = False\n",
      "    ax.hist(data[occupied_slots],bins=n_bins, histtype='step')\n",
      "filename='data.png'\n",
      "matplotlib.pyplot.savefig(filename)\n",
      "IPdisp.Image(filename=filename)"
     ],
     "language": "python",
     "outputs": [
      {
       "output_type": "pyout",
       "png": "[encoded data removed]",
       "prompt_number": 13,
       "text": [
        "<IPython.core.display.Image at 0x60e83350>"
       ]
      }
     ],
     "prompt_number": 13
    },
    {
     "cell_type": "code",
     "collapsed": false,
     "input": [
      "# python: 10.3s\n",
      "# cython: 9.8s\n",
      "# cimport and cdef: 13.6s\n",
      "# dtype and ndim: 452ms\n",
      "# no inj or plot: 13.5ms\n",
      "# 100x part: 1.25s (might have been fluke; more like below)\n",
      "# no bounds check: 973ms\n"
     ],
     "language": "python",
     "outputs": [],
     "prompt_number": 122
    },
    {
     "cell_type": "code",
     "collapsed": false,
     "input": [
      "#dir(MPI.COMM_WORLD)\n",
      "help(MPI.COMM_WORLD.Allreduce)"
     ],
     "language": "python",
     "outputs": [
      {
       "output_type": "stream",
       "stream": "stdout",
       "text": [
        "Help on built-in function Allreduce:\n",
        "\n",
        "Allreduce(...)\n",
        "    Comm.Allreduce(self, sendbuf, recvbuf, Op op=SUM)\n",
        "    \n",
        "    All Reduce\n",
        "\n"
       ]
      }
     ],
     "prompt_number": 24
    },
    {
     "cell_type": "code",
     "collapsed": false,
     "input": [],
     "language": "python",
     "outputs": []
    }
   ]
  }
 ]
}